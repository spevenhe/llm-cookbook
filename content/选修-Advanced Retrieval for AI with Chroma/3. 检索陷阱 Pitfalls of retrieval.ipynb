{
 "cells": [
  {
   "cell_type": "markdown",
   "metadata": {},
   "source": [
    "# 第三章 检索陷阱\n"
   ]
  },
  {
   "cell_type": "markdown",
   "metadata": {},
   "source": [
    "## 目录\n",
    "- [ 3.1 - 可视化技巧](#31)\n",
    "- [ 3.2 - 相似性和干扰项](#32)\n",
    "- [ 3.3 - 总结](#33)\n",
    "\n",
    "在对文档进行简单的向量检索时，我们可能会遇到一些问题或陷阱：\n",
    "- **干扰项**：简单的向量检索可能会返回和查询主题相似的文本，但不包含答案，此时这些检索结果反而会对LLM的回复形成干扰；\n",
    "- **无关结果**：如果用一个和文档主题毫不相关的查询去检索文档，嵌入模型仍然会返回检索结果，此时LLM可能会被检索结果误导，导致回复结果“牛头不对马嘴”。\n",
    "\n",
    "此时，简单的向量检索就会失效，无法提供准确有效的检索结果。\n",
    "\n",
    "接下来我们通过可视化方法来更好地观察和解释为何简单向量检索有时会失效。\n",
    "\n",
    "## 3.1 可视化技巧\n",
    "\n",
    "首先，我们来导入需要用到的库和数据："
   ]
  },
  {
   "cell_type": "code",
   "execution_count": 67,
   "metadata": {},
   "outputs": [
    {
     "name": "stdout",
     "output_type": "stream",
     "text": [
      "chat resp: Hello\n",
      "chat resp: !\n",
      "chat resp:  How\n",
      "chat resp:  can I assist you today\n",
      "chat resp: ?\n"
     ]
    }
   ],
   "source": [
    "from dotenv import load_dotenv\n",
    "env = load_dotenv(\"/home/xinyi/.env\")\n",
    "\n",
    "import os\n",
    "\n",
    "from langchain_community.chat_models.tongyi import ChatTongyi\n",
    "from langchain_core.messages import HumanMessage\n",
    "\n",
    "llm = ChatTongyi(\n",
    "    streaming=True,\n",
    ")\n",
    "\n",
    "res = llm.stream([HumanMessage(content=\"hi\")], streaming=True)\n",
    "for r in res:\n",
    "    print(\"chat resp:\", r.content)\n",
    "\n",
    "from langchain.embeddings.dashscope import DashScopeEmbeddings\n",
    "embedding = DashScopeEmbeddings(\n",
    "            model=\"text-embedding-v1\",\n",
    "    )"
   ]
  },
  {
   "cell_type": "code",
   "execution_count": 66,
   "metadata": {},
   "outputs": [
    {
     "ename": "AttributeError",
     "evalue": "'Collection' object has no attribute 'delete_collection'",
     "output_type": "error",
     "traceback": [
      "\u001b[0;31m---------------------------------------------------------------------------\u001b[0m",
      "\u001b[0;31mAttributeError\u001b[0m                            Traceback (most recent call last)",
      "Cell \u001b[0;32mIn[66], line 1\u001b[0m\n\u001b[0;32m----> 1\u001b[0m \u001b[43mchroma_collection\u001b[49m\u001b[38;5;241;43m.\u001b[39;49m\u001b[43mdelete_collection\u001b[49m()\n",
      "\u001b[0;31mAttributeError\u001b[0m: 'Collection' object has no attribute 'delete_collection'"
     ]
    }
   ],
   "source": [
    "chroma_collection.delete_collection()"
   ]
  },
  {
   "cell_type": "code",
   "execution_count": 74,
   "metadata": {},
   "outputs": [],
   "source": [
    "chroma_collection.delete_collection()"
   ]
  },
  {
   "cell_type": "code",
   "execution_count": 75,
   "metadata": {},
   "outputs": [
    {
     "name": "stdout",
     "output_type": "stream",
     "text": [
      "\n",
      "Total chunks: 32\n"
     ]
    },
    {
     "ename": "AttributeError",
     "evalue": "'Chroma' object has no attribute 'count'",
     "output_type": "error",
     "traceback": [
      "\u001b[0;31m---------------------------------------------------------------------------\u001b[0m",
      "\u001b[0;31mAttributeError\u001b[0m                            Traceback (most recent call last)",
      "Cell \u001b[0;32mIn[75], line 38\u001b[0m\n\u001b[1;32m     28\u001b[0m chroma_collection \u001b[38;5;241m=\u001b[39m Chroma\u001b[38;5;241m.\u001b[39mfrom_documents(\n\u001b[1;32m     29\u001b[0m     documents\u001b[38;5;241m=\u001b[39mcharacter_split_texts,\n\u001b[1;32m     30\u001b[0m     embedding\u001b[38;5;241m=\u001b[39membedding,\n\u001b[1;32m     31\u001b[0m     collection_name\u001b[38;5;241m=\u001b[39m\u001b[38;5;124m\"\u001b[39m\u001b[38;5;124mbeijing_annual_report\u001b[39m\u001b[38;5;124m\"\u001b[39m\n\u001b[1;32m     32\u001b[0m )\n\u001b[1;32m     36\u001b[0m ids \u001b[38;5;241m=\u001b[39m [\u001b[38;5;28mstr\u001b[39m(i) \u001b[38;5;28;01mfor\u001b[39;00m i \u001b[38;5;129;01min\u001b[39;00m \u001b[38;5;28mrange\u001b[39m(\u001b[38;5;28mlen\u001b[39m(character_split_texts))]\n\u001b[0;32m---> 38\u001b[0m \u001b[43mchroma_collection\u001b[49m\u001b[38;5;241;43m.\u001b[39;49m\u001b[43mcount\u001b[49m()\n",
      "\u001b[0;31mAttributeError\u001b[0m: 'Chroma' object has no attribute 'count'"
     ]
    }
   ],
   "source": [
    "from helper_utils import word_wrap\n",
    "# 导入PDF阅读器\n",
    "from langchain.document_loaders import PyPDFLoader\n",
    "from langchain.vectorstores import Chroma\n",
    "# 加载 PDF\n",
    "loaders = [\n",
    "    # 故意添加重复文档，使数据混乱\n",
    "    PyPDFLoader(\"./data/2024年北京市政府工作报告.pdf\"),\n",
    "]\n",
    "docs = []\n",
    "for loader in loaders:\n",
    "    docs.extend(loader.load())\n",
    "\n",
    "\n",
    "from langchain_text_splitters import TokenTextSplitter\n",
    "character_splitter = TokenTextSplitter(\n",
    "    #separators=[\"\\n\\n\", \"\\n\", \". \", \" \", \"\"],英文文档的分割符示例\n",
    "    # separators=[\"\\n\\n\", \"\\n\", \"。\", \"，\", \"、\", \"；\", \"\"],\n",
    "    chunk_size=1500,\n",
    "    chunk_overlap=150\n",
    ")\n",
    "character_split_texts = character_splitter.split_documents(docs)\n",
    "\n",
    "print(f\"\\nTotal chunks: {len(character_split_texts)}\")\n",
    "\n",
    "\n",
    "\n",
    "chroma_collection = Chroma.from_documents(\n",
    "    documents=character_split_texts,\n",
    "    embedding=embedding,\n",
    "    collection_name=\"beijing_annual_report\"\n",
    ")\n",
    "\n",
    "\n",
    "\n",
    "ids = [str(i) for i in range(len(character_split_texts))]\n",
    "\n"
   ]
  },
  {
   "cell_type": "code",
   "execution_count": 87,
   "metadata": {},
   "outputs": [
    {
     "data": {
      "text/plain": [
       "32"
      ]
     },
     "execution_count": 87,
     "metadata": {},
     "output_type": "execute_result"
    }
   ],
   "source": [
    "chroma_collection._collection.count()"
   ]
  },
  {
   "cell_type": "code",
   "execution_count": null,
   "metadata": {},
   "outputs": [],
   "source": [
    "from langchain_text_splitters import TokenTextSplitter\n",
    "\n",
    "text_splitter = TokenTextSplitter(chunk_size=10, chunk_overlap=0)\n",
    "\n",
    "texts = text_splitter.split_text('\\n\\n'.join(pdf_texts))\n",
    "print(texts[0])"
   ]
  },
  {
   "cell_type": "markdown",
   "metadata": {},
   "source": [
    "接下来我们将用UMAP对嵌入（embedding）矩阵进行可视化，以更好地观察嵌入矩阵元素之间的关系。\n",
    "\n",
    "UMAP（Uniform Manifold Approximation and Projection）是一种用于降维和数据可视化的算法，类似于 PCA、t-SNE（t-distributed Stochastic Neighbor Embedding）等降维方法，相比 t-SNE 有一些改进，使其在某些情况下更加高效且能够保留数据的全局结构。\n",
    "\n",
    "安装方式：`pip install umap-learn`。注意是安装`umap-learn`而不是`umap`。"
   ]
  },
  {
   "cell_type": "code",
   "execution_count": 77,
   "metadata": {},
   "outputs": [
    {
     "name": "stderr",
     "output_type": "stream",
     "text": [
      "/root/miniconda3/envs/python3.9/lib/python3.9/site-packages/umap/umap_.py:1945: UserWarning: n_jobs value 1 overridden to 1 by setting random_state. Use no seed for parallelism.\n",
      "  warn(f\"n_jobs value {self.n_jobs} overridden to 1 by setting random_state. Use no seed for parallelism.\")\n"
     ]
    }
   ],
   "source": [
    "import umap\n",
    "import numpy as np\n",
    "from tqdm import tqdm\n",
    "\n",
    "# 获取整个数据集的嵌入\n",
    "embeddings     = chroma_collection.get(include=['embeddings'])['embeddings']\n",
    "# 定义UMAP模型\n",
    "umap_transform = umap.UMAP(random_state=0, transform_seed=0).fit(embeddings)"
   ]
  },
  {
   "cell_type": "code",
   "execution_count": 78,
   "metadata": {},
   "outputs": [],
   "source": [
    "def project_embeddings(embeddings, umap_transform):\n",
    "    \"\"\"\n",
    "    用 UMAP 将高维嵌入向量投影到二维向量空间。\n",
    "    \n",
    "    Args:\n",
    "        embeddings (list): 高维嵌入向量。\n",
    "        umap_transform (umap.UMAP): UMAP模型。\n",
    "\n",
    "    Returns:\n",
    "        umap_embeddings (np.ndarray): 二维嵌入向量矩阵。\n",
    "    \"\"\"\n",
    "    \n",
    "    umap_embeddings = np.empty((len(embeddings),2))\n",
    "    # 为保证结果可复现，逐个进行umap转换\n",
    "    for i, embedding in enumerate(tqdm(embeddings)): \n",
    "        umap_embeddings[i] = umap_transform.transform([embedding])\n",
    "\n",
    "    return umap_embeddings   "
   ]
  },
  {
   "cell_type": "code",
   "execution_count": 79,
   "metadata": {},
   "outputs": [
    {
     "data": {
      "text/plain": [
       "(32, 1536)"
      ]
     },
     "execution_count": 79,
     "metadata": {},
     "output_type": "execute_result"
    }
   ],
   "source": [
    "len(embeddings), len(embeddings[0])"
   ]
  },
  {
   "cell_type": "markdown",
   "metadata": {},
   "source": [
    "可以看到`embeddings`矩阵的维度高达1536，是一个典型的高维空间，非常复杂，难以观察。\n",
    "\n",
    "因此我们用`UMAP`方法将其投影到二维平面，方便可视化。"
   ]
  },
  {
   "cell_type": "code",
   "execution_count": 80,
   "metadata": {},
   "outputs": [
    {
     "name": "stderr",
     "output_type": "stream",
     "text": [
      "100%|██████████| 32/32 [00:25<00:00,  1.27it/s]"
     ]
    },
    {
     "name": "stdout",
     "output_type": "stream",
     "text": [
      "Before UMAP: (32, 1536)\n",
      "After UMAP: (32, 2)\n"
     ]
    },
    {
     "name": "stderr",
     "output_type": "stream",
     "text": [
      "\n"
     ]
    }
   ],
   "source": [
    "projected_dataset_embeddings = project_embeddings(embeddings, umap_transform)\n",
    "print(f'Before UMAP: {np.array(embeddings).shape}')\n",
    "print(f'After UMAP: {projected_dataset_embeddings.shape}')"
   ]
  },
  {
   "cell_type": "markdown",
   "metadata": {},
   "source": [
    "投影到二维平面后，我们就可以通过散点图来观察不同点之间的关系了。"
   ]
  },
  {
   "cell_type": "code",
   "execution_count": 81,
   "metadata": {},
   "outputs": [
    {
     "data": {
      "text/plain": [
       "(10.47534499168396, 15.902366304397583, 0.7547510534524917, 6.08828327357769)"
      ]
     },
     "execution_count": 81,
     "metadata": {},
     "output_type": "execute_result"
    },
    {
     "name": "stderr",
     "output_type": "stream",
     "text": [
      "findfont: Generic family 'sans-serif' not found because none of the following families were found: Microsoft YaHei\n",
      "findfont: Generic family 'sans-serif' not found because none of the following families were found: Microsoft YaHei\n",
      "findfont: Generic family 'sans-serif' not found because none of the following families were found: Microsoft YaHei\n",
      "findfont: Generic family 'sans-serif' not found because none of the following families were found: Microsoft YaHei\n",
      "findfont: Generic family 'sans-serif' not found because none of the following families were found: Microsoft YaHei\n",
      "findfont: Generic family 'sans-serif' not found because none of the following families were found: Microsoft YaHei\n",
      "findfont: Generic family 'sans-serif' not found because none of the following families were found: Microsoft YaHei\n",
      "findfont: Generic family 'sans-serif' not found because none of the following families were found: Microsoft YaHei\n",
      "findfont: Generic family 'sans-serif' not found because none of the following families were found: Microsoft YaHei\n",
      "findfont: Generic family 'sans-serif' not found because none of the following families were found: Microsoft YaHei\n",
      "findfont: Generic family 'sans-serif' not found because none of the following families were found: Microsoft YaHei\n",
      "findfont: Generic family 'sans-serif' not found because none of the following families were found: Microsoft YaHei\n",
      "findfont: Generic family 'sans-serif' not found because none of the following families were found: Microsoft YaHei\n",
      "findfont: Generic family 'sans-serif' not found because none of the following families were found: Microsoft YaHei\n",
      "findfont: Generic family 'sans-serif' not found because none of the following families were found: Microsoft YaHei\n",
      "findfont: Generic family 'sans-serif' not found because none of the following families were found: Microsoft YaHei\n",
      "findfont: Generic family 'sans-serif' not found because none of the following families were found: Microsoft YaHei\n",
      "findfont: Generic family 'sans-serif' not found because none of the following families were found: Microsoft YaHei\n",
      "findfont: Generic family 'sans-serif' not found because none of the following families were found: Microsoft YaHei\n",
      "findfont: Generic family 'sans-serif' not found because none of the following families were found: Microsoft YaHei\n"
     ]
    },
    {
     "data": {
      "image/png": "[encoded data removed]",
      "text/plain": [
       "<Figure size 640x480 with 1 Axes>"
      ]
     },
     "metadata": {},
     "output_type": "display_data"
    }
   ],
   "source": [
    "# 绘制散点图\n",
    "import matplotlib.pyplot as plt\n",
    "\n",
    "plt.figure()\n",
    "plt.scatter(projected_dataset_embeddings[:, 0], projected_dataset_embeddings[:, 1], s=5)\n",
    "plt.gca().set_aspect('equal', 'datalim')\n",
    "plt.title('Projected Embeddings')\n",
    "plt.axis('off')"
   ]
  },
  {
   "cell_type": "markdown",
   "metadata": {},
   "source": [
    "一般来说，离得越近的两个点，它们的语义相似度越高，反之越低。\n",
    "\n",
    "## 3.2 相似性和干扰项\n",
    "\n",
    "这一节我们通过几个简单的例子来探究简单向量失效的情况。\n",
    "\n",
    "首先，我们来问问北京的地区生产总值是多少。"
   ]
  },
  {
   "cell_type": "code",
   "execution_count": 92,
   "metadata": {},
   "outputs": [
    {
     "data": {
      "text/plain": [
       "[Document(page_content='国有资产集中统一监管；\\n重点纠治形式主义、官僚主义，扎实推进精文简会和基层减负工作；加大审计监督、财会监\\n督力度，完成首轮统计督察，以严的基调强化正风肃纪反腐，清廉守正、求真务实成为政府\\n工作的鲜明导向。\\n各位代表！过去一年，面对内外部各种风险挑战，我们抗击灾害、保障安全、化解风险、\\n稳定经济、推动发展、改善民生，一关接着一关闯，一仗接着一仗打，取得的成绩来之不易。\\n这是以习近平同志为核心的党中央坚强领导的结果，是习近平新时代中国特色社会主义思想\\n科学指导的结果，是中共北京市委带领全市人民攻坚克难、艰苦奋斗的结果。在此，我谨代\\n表北京市人民政府，向全市人民，向全体人大代表、政协委员，向各民主党派、各人民团体', metadata={'page': 3, 'source': './data/2024年北京市政府工作报告.pdf'}),\n",
       " Document(page_content='长同步，人均地区生产总值、全\\n员劳动生产率、万元地区生产总值能耗水耗等多项指标保持全国省级地区最优水平。\\n一年来，主要做了以下工作。\\n一是深入落实首都城市战略定位，京津冀协同发展不断走深走实。进一步优化提升首都\\n功能，坚持首都规划权属党中央，完善首规委工作制度，加快首都规划体系建设，深化规自\\n领域问题整改，严格规划执行；实施核心区控规新一轮三年行动计划，开展重点地区环境整\\n治提升，全力保障中央政务功能。扎实推进国际交往中心建设，雁栖湖国际会都实现扩容提\\n升，第四使馆区等规划建设有序推进，在京登记落户国际组织机构增至115家；健全重大国\\n事活动服务保障常态化工作机制，圆满完成第三届“一带一路”国际合作高峰论坛服务保障\\n任务。深入开展疏解整治促提升专项行动，拆除违法建设2315万平方米、腾退土地2282\\n公顷，启动实施第二道绿化隔离地区减量提质规划和五年工作方案，城乡建设用地减量约8\\n平方公里；整治桥下空间183处、城市家具1万余处，规范拆除各类护栏900公里，精细化\\n治理提升背街小巷1730条；完成老旧小区改造183个，启动危旧楼房改建和简易楼腾退20.4\\n万平方米。大力推动城市副中心高质量发展，行政办公区二期建成，第二批市级机关搬迁，\\n北京艺术中心、城市图书馆、大运河博物馆建成投用，东六环高线公园等规划建设稳步推进，\\n全国温室气体自愿减排交易机构获批设立，通州区与北三县一体化发展取得新进展。加快构\\n建京津冀更加紧密的协同发展格局，建立三地联合工作机制，制定实施三年行动计划；京雄\\n高速全线通车，津兴城际铁路开通运行；雄安新区中关村科技园挂牌运营，北京向天津、河\\n北输出技', metadata={'page': 0, 'source': './data/2024年北京市政府工作报告.pdf'}),\n",
       " Document(page_content='�成美丽乡村建设，93%的村庄和96%的农户实现清洁取暖；严守耕地保护红\\n线，完成5.8万亩高标准农田建设，农业中关村总体框架基本形成，粮食、蔬菜产量连续四\\n年增长；学习运用“千万工程”经验，启动实施“百村示范、千村振兴”工程，农村居民收\\n入增速快于城镇居民2个百分点；深入开展东西部协作和支援合作，助力受援地区巩固拓展\\n脱贫攻坚成果。\\n六是坚持统筹发展和安全，首都安全防线不断夯实。全面加强安全生产工作，深刻汲取\\n“4·18”长峰医院重大火灾事故教训，迅速开展安全生产和火灾隐患大排查大整治，及时\\n出台“十项硬措施”，深入推进燃气、电动自行车、农村自建房等领域安全隐患专项整治，\\n开发推广“企安安”信息系统，认真落实“三管三必须”要求，压实基层末梢安全责任，全\\n市生产安全死亡事故起数和死亡人数分别比2019年下降4.8%和1.8%。着力防范化解金融风\\n险，完善地方金融监管机制，完成全国首例地方政府专项债券提前偿还试点，有序处置重点', metadata={'page': 2, 'source': './data/2024年北京市政府工作报告.pdf'}),\n",
       " Document(page_content='各位代表：\\n现在，我代表北京市人民政府，向大会报告政府工作，请予审议，并请市政协委员提出\\n意见。\\n一、2023年工作回顾\\n2023年是全面贯彻落实党的二十大精神的开局之年，是三年新冠疫情防控转段后经济\\n恢复发展的一年。习近平总书记亲赴门头沟区看望慰问“23·7”极端强降雨受灾群众、对\\n灾后恢复重建作出重要指示，主持召开深入推进京津冀协同发展座谈会并发表重要讲话，向\\n中国国际服务贸易交易会发表重要视频致辞，向中关村论坛、北京文化论坛致贺信，为推动\\n新时代首都发展进一步指明了前进方向、提供了根本遵循。全市人民深受鼓舞、倍感振奋，\\n汇聚起奋进新征程、建功新时代的磅礴力量。\\n过去一年，在以习近平同志为核心的党中央坚强领导下，在中共北京市委直接领导下，\\n在市人大及其常委会监督支持下，我们坚持以习近平新时代中国特色社会主义思想为指导，\\n全面贯彻党的二十大和二十届二中全会精神，深入贯彻习近平总书记对北京重要讲话精神，\\n认真贯彻落实党中央决策部署，加强“四个中心”功能建设，提高“四个服务”水平，深化\\n“五子”联动服务和融入新发展格局，统筹发展和安全，着力提信心、强创新、优功能、促\\n协同、抓治理、惠民生，经受住多种考验，经济整体回升向好，社会大局保持稳定，各项事\\n业取得新进展新成效，较好完成了市十六届人大一次会议确定的目标任务。全市地区生产总\\n值增长5.2%、约4.4万亿元，一般公共预算收入增长8.2%、突破6000亿元，城镇调查失业\\n率4.4%，居民消费价格总体平稳，居民收入增长与经济增长同步，人均地区生产总值、全\\n员劳动生产率、万元地区生产总值能耗水耗等多项指标保持全国省级地区最优水平。\\n一年来，主要做了以下工作。\\n一是深入落实首都', metadata={'page': 0, 'source': './data/2024年北京市政府工作报告.pdf'}),\n",
       " Document(page_content='风建设。牢固树立和践行正确政绩观，推动形成层层\\n抓落实的良好局面。认真落实二十届中央纪委三次全会精神，纵深推进政府系统全面从严治\\n党，严格落实中央八项规定精神，力戒形式主义、官僚主义，深入推进基层减负。坚持政府\\n过紧日子，继续压减一般性支出，加强审计、统计、财会等各类监督，一体推进不敢腐、不\\n能腐、不想腐，严格干部教育管理监督，保持清正廉洁的政治本色。\\n各位代表！奋楫扬帆启新航，凝心聚力谱华章。让我们更加紧密地团结在以习近平同志\\n为核心的党中央周围，以习近平新时代中国特色社会主义思想为指导，在中共北京市委坚强\\n领导下，坚定信心、开拓奋进，着力推动高质量发展，为推进中国式现代化作出首都贡献！', metadata={'page': 12, 'source': './data/2024年北京市政府工作报告.pdf'})]"
      ]
     },
     "execution_count": 92,
     "metadata": {},
     "output_type": "execute_result"
    }
   ],
   "source": [
    "query = \"地区生产总值是多少？\"\n",
    "\n",
    "# 输入query，返回 n_results 个最相关的查询结果，results 是一个字典，包含了查询结果的文档和嵌入矩阵（方便后续可视化）\n",
    "results = chroma_collection.similarity_search(query=query, k=5)\n",
    "\n",
    "# 检索结果\n",
    "results"
   ]
  },
  {
   "cell_type": "markdown",
   "metadata": {},
   "source": [
    "可以看到其中一个检索结果就是我们想要的答案，但其他结果并不是我们想要的。\n",
    "\n",
    "接下来我们用UMAP将查询、检索结果、原始数据都投影到二维平面，并绘制散点图。"
   ]
  },
  {
   "cell_type": "code",
   "execution_count": null,
   "metadata": {},
   "outputs": [],
   "source": [
    "query_embedding      = embedding.embed_query([query])  # 查询的嵌入\n",
    "retrieved_embeddings = results['embeddings'][0]   # 检索的嵌入\n",
    "\n",
    "# UMAP降维（投影到二维平面）\n",
    "projected_query_embedding      = project_embeddings([query_embedding], umap_transform)\n",
    "projected_retrieved_embeddings = project_embeddings(retrieved_embeddings, umap_transform)"
   ]
  },
  {
   "cell_type": "code",
   "execution_count": null,
   "metadata": {},
   "outputs": [],
   "source": [
    "def plot(query, projected_dataset_embeddings, projected_query_embedding, projected_retrieved_embeddings):\n",
    "    \"\"\"\n",
    "    绘制投影后的数据集、查询、检索结果的散点图.\n",
    "    \n",
    "    Args:\n",
    "        query (str): 查询文本。\n",
    "        projected_dataset_embeddings (np.ndarray): 整个数据集的二维嵌入向量。\n",
    "        projected_query_embedding (np.ndarray): 查询的二维嵌入向量。\n",
    "        projected_retrieved_embeddings (np.ndarray): 检索的二维嵌入向量。\n",
    "    \n",
    "    Returns:\n",
    "        None\n",
    "\n",
    "    \"\"\"\n",
    "    plt.figure()\n",
    "    plt.rcParams['font.sans-serif'] = ['Microsoft YaHei']  # 设置全局字体为微软雅黑，显示中文\n",
    "    plt.scatter(projected_dataset_embeddings[:, 0], projected_dataset_embeddings[:, 1], s=10, color='gray') # 整个数据集的散点图\n",
    "    plt.scatter(projected_query_embedding[:, 0], projected_query_embedding[:, 1], s=150, marker='X', color='r') # 查询的散点图\n",
    "    plt.scatter(projected_retrieved_embeddings[:, 0], projected_retrieved_embeddings[:, 1], s=80, facecolors='none', edgecolors='g') # 检索的散点图\n",
    "\n",
    "    plt.gca().set_aspect('equal', 'datalim')\n",
    "    plt.title(f'{query}')\n",
    "    plt.axis('off')\n",
    "    plt.show()\n",
    "\n",
    "plot(query, projected_dataset_embeddings, projected_query_embedding, projected_retrieved_embeddings)"
   ]
  },
  {
   "cell_type": "markdown",
   "metadata": {},
   "source": [
    "上图中，红色的“×”即为我们的查询（query），绿色圆圈圈住的点为检索结果。\n",
    "\n",
    "注意：这里我们将高维空间压缩到了二维空间，这个可视化结果并不总是完美的。\n",
    "\n",
    "可以看到一些检索结果都围绕在查询四周，但也有一些点离得较远。\n",
    "\n",
    "这些离得远的点就是问题所在，它没有答到点子上。\n",
    "\n",
    "这是因为**我们问的问题很泛，没有提供足够的背景信息，嵌入模型很难理解我们的意图，难以去完成我们内心期待的特定任务**。\n",
    "\n",
    "我们换一个问题试试：一般公共预算收入是多少？"
   ]
  },
  {
   "cell_type": "code",
   "execution_count": null,
   "metadata": {},
   "outputs": [],
   "source": [
    "query   = \"一般公共预算收入是多少？\"\n",
    "results = chroma_collection.query(query_texts=query, n_results=5, include=['documents', 'embeddings'])\n",
    "\n",
    "# 检索结果\n",
    "retrieved_documents = results['documents'][0]\n",
    "\n",
    "# 查看检索结果\n",
    "for document in results['documents'][0]:\n",
    "    print(word_wrap(document))\n",
    "    print('')"
   ]
  },
  {
   "cell_type": "markdown",
   "metadata": {},
   "source": [
    "可以看到前2个结果与问题较为相关，后面的3个结果的相关性逐渐减弱。\n",
    "\n",
    "接下来进行可视化。"
   ]
  },
  {
   "cell_type": "code",
   "execution_count": null,
   "metadata": {},
   "outputs": [],
   "source": [
    "query_embedding      = embedding.embed_query([query])  # 查询的嵌入\n",
    "retrieved_embeddings = results['embeddings'][0]   # 检索的嵌入\n",
    "\n",
    "# UMAP降维（投影到二维平面）\n",
    "projected_query_embedding      = project_embeddings([query_embedding], umap_transform)\n",
    "projected_retrieved_embeddings = project_embeddings(retrieved_embeddings, umap_transform)\n",
    "\n",
    "# 绘制散点图\n",
    "plot(query, projected_dataset_embeddings, projected_query_embedding, projected_retrieved_embeddings)"
   ]
  },
  {
   "cell_type": "markdown",
   "metadata": {},
   "source": [
    "可以看到一些检索结果和我们的查询离得非常近，但也有一些结果离得非常远。\n",
    "\n",
    "我们再来换一个问题试试。"
   ]
  },
  {
   "cell_type": "code",
   "execution_count": null,
   "metadata": {},
   "outputs": [],
   "source": [
    "query   = \"城镇新增就业人数多少？\"\n",
    "results = chroma_collection.query(query_texts=query, n_results=5, include=['documents', 'embeddings'])\n",
    "\n",
    "# 检索结果\n",
    "retrieved_documents = results['documents'][0]\n",
    "\n",
    "# 查看检索结果\n",
    "for document in results['documents'][0]:\n",
    "    print(word_wrap(document))\n",
    "    print('')"
   ]
  },
  {
   "cell_type": "markdown",
   "metadata": {},
   "source": [
    "从检索结果来看，第一个检索结果答到了城镇新增就业人数的具体数字，但后面的几个结果存在不少**干扰项**。\n",
    "\n",
    "干扰项是指和查询主题相似但不包含答案的文本，**如果将这些信息传递给大型语言模型来完成RAG任务，模型往往会被这些信息分散注意力，导致输出次优的结果**。\n",
    "\n",
    "干扰项导致的模型不良行为对于用户和开发者来说都很难诊断和调试。\n",
    "\n",
    "因此，让检索系统更加健壮，返回相关结果而不返回干扰项对于模型来说非常重要。\n",
    "\n",
    "接下来我们将结果进行可视化。"
   ]
  },
  {
   "cell_type": "code",
   "execution_count": null,
   "metadata": {},
   "outputs": [],
   "source": [
    "query_embedding      = embedding.embed_query([query])  # 查询的嵌入\n",
    "retrieved_embeddings = results['embeddings'][0]   # 检索的嵌入\n",
    "\n",
    "# UMAP降维（投影到二维平面）\n",
    "projected_query_embedding      = project_embeddings([query_embedding], umap_transform)\n",
    "projected_retrieved_embeddings = project_embeddings(retrieved_embeddings, umap_transform)\n",
    "\n",
    "# 绘制散点图\n",
    "plot(query, projected_dataset_embeddings, projected_query_embedding, projected_retrieved_embeddings)"
   ]
  },
  {
   "cell_type": "markdown",
   "metadata": {},
   "source": [
    "最后我们来尝试换一个与文档无关的话题：乔丹干了啥？"
   ]
  },
  {
   "cell_type": "code",
   "execution_count": null,
   "metadata": {},
   "outputs": [],
   "source": [
    "query = \"迈克尔·乔丹最近做了什么？\"\n",
    "results = chroma_collection.query(query_texts=query, n_results=5, include=['documents', 'embeddings'])\n",
    "\n",
    "# 检索结果\n",
    "retrieved_documents = results['documents'][0]\n",
    "\n",
    "# 查看检索结果\n",
    "for document in results['documents'][0]:\n",
    "    print(word_wrap(document))\n",
    "    print('')"
   ]
  },
  {
   "cell_type": "markdown",
   "metadata": {},
   "source": [
    "显而易见，乔丹和北京市政府的年度报告没有任何关联，检索结果里也确实没有提到他。\n",
    "\n",
    "但是，如果我们将检索结果用作RAG任务的一部分，LLM的回答将完全基于这些**无关结果**得到，这就容易出现牛头不对马嘴的情况。\n",
    "\n",
    "我们再来看一下投影结果："
   ]
  },
  {
   "cell_type": "code",
   "execution_count": null,
   "metadata": {},
   "outputs": [],
   "source": [
    "query_embedding      = embedding_function([query])[0]  # 查询的嵌入\n",
    "retrieved_embeddings = results['embeddings'][0]   # 检索的嵌入\n",
    "\n",
    "# UMAP降维（投影到二维平面）\n",
    "projected_query_embedding      = project_embeddings([query_embedding], umap_transform)\n",
    "projected_retrieved_embeddings = project_embeddings(retrieved_embeddings, umap_transform)\n",
    "\n",
    "# 绘制散点图\n",
    "plot(query, projected_dataset_embeddings, projected_query_embedding, projected_retrieved_embeddings)"
   ]
  },
  {
   "cell_type": "markdown",
   "metadata": {},
   "source": [
    "可以看到关于迈克尔·乔丹的结果到处都是，因为查询与我们数据集中的任何数据都毫无关联。\n",
    "\n",
    "因为这是一种几何类型的数据，想象一下所有的数据是一个位于高维空间中的点云。\n",
    "\n",
    "**落在点云内部的查询可能会找到最近邻，它们在点云内部密集而紧密地靠在一起，但是落在点云外部的查询可能会找到来自该点云许多不同部分的最近邻，因此它们更加分散。**\n",
    "\n",
    "而乔丹与我们的文档主题毫不相关，因此这个查询是落在点云外部的查询，故它的查询结果分散在点云四周。\n",
    "\n",
    "接下来你也可以尝试，换一个查询并可视化一下检索结果，来更好地理解简单向量检索的运行机制和缺点。\n",
    "\n",
    "<a name='33'></a>\n",
    "## 3.3 总结\n",
    "\n",
    "在这个实验中，我们学到了：\n",
    "\n",
    "- 如何用`UMAP`将高维Embedding向量投影到二维平面并进行可视化；\n",
    "- **简单的向量检索可能会返回一些无关答案造成干扰**。\n",
    "\n",
    "在下一个实验中，我们将向你展示通过使用一种称为查询扩展的技术来改善LLMs查询质量的技巧。\n"
   ]
  }
 ],
 "metadata": {
  "kernelspec": {
   "display_name": "chroma",
   "language": "python",
   "name": "python3"
  },
  "language_info": {
   "codemirror_mode": {
    "name": "ipython",
    "version": 3
   },
   "file_extension": ".py",
   "mimetype": "text/x-python",
   "name": "python",
   "nbconvert_exporter": "python",
   "pygments_lexer": "ipython3",
   "version": "3.9.19"
  }
 },
 "nbformat": 4,
 "nbformat_minor": 2
}
